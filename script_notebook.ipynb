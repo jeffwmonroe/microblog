{
 "cells": [
  {
   "cell_type": "markdown",
   "source": [
    "# Database Initialization\n",
    "### The following cell **initializes** so that we can work with the database\n",
    "is this **bold**? and now an _underline_!\n",
    "\n",
    "<h1>HTML Style Heading</h1>\n",
    "```\n",
    "int x=10\n",
    "```\n",
    "\n",
    "example `code` block\n",
    "\n",
    "```C++\n",
    "Multiline code\n",
    "int x = 7;\n",
    "```"
   ],
   "metadata": {
    "collapsed": false
   }
  },
  {
   "cell_type": "code",
   "execution_count": null,
   "outputs": [],
   "source": [
    "import os\n",
    "os.environ['FLASK_APP'] = 'microblog.py'\n",
    "\n",
    "from webapp import webapp, db\n",
    "from webapp.models import User, Post\n",
    "set\n",
    "print('working directory', os.getcwd())\n",
    "webapp.app_context().push()\n",
    "# os.environ['FLASK_APP']\n",
    "print('   FLASK_APP=', os.environ['FLASK_APP'])\n",
    "\n",
    "# os.environ\n",
    "webapp"
   ],
   "metadata": {
    "collapsed": false
   }
  },
  {
   "cell_type": "code",
   "execution_count": null,
   "outputs": [],
   "source": [
    "\n"
   ],
   "metadata": {
    "collapsed": false
   }
  },
  {
   "cell_type": "markdown",
   "source": [
    "## Add users\n",
    "#### This code adds users to the database"
   ],
   "metadata": {
    "collapsed": false
   }
  },
  {
   "cell_type": "code",
   "execution_count": null,
   "outputs": [],
   "source": [
    "u = User(username='john', email='john@gmail.com')\n",
    "u.set_password('cat')\n",
    "db.session.add(u)\n",
    "db.session.commit()"
   ],
   "metadata": {
    "collapsed": false
   }
  },
  {
   "cell_type": "code",
   "execution_count": null,
   "outputs": [],
   "source": [
    "u = User(username='susan', email='susan@example.com')\n",
    "u.set_password('dog')\n",
    "db.session.add(u)\n",
    "db.session.commit()\n"
   ],
   "metadata": {
    "collapsed": false
   }
  },
  {
   "cell_type": "markdown",
   "source": [
    "### Print all of the users in the database"
   ],
   "metadata": {
    "collapsed": false
   }
  },
  {
   "cell_type": "code",
   "execution_count": null,
   "outputs": [],
   "source": [
    "users = User.query.all()\n",
    "\n",
    "print('Users in database:')\n",
    "for u in users:\n",
    "    print( f'    <id={u.id:3d} user={u.username:8s} email={u.email}  about_me = {u.about_me}:8s>')"
   ],
   "metadata": {
    "collapsed": false
   }
  },
  {
   "cell_type": "code",
   "execution_count": null,
   "outputs": [],
   "source": [],
   "metadata": {
    "collapsed": false
   }
  },
  {
   "cell_type": "markdown",
   "source": [
    "### Add a post for John"
   ],
   "metadata": {
    "collapsed": false
   }
  },
  {
   "cell_type": "code",
   "execution_count": null,
   "outputs": [],
   "source": [
    "u = User.query.get(1)\n",
    "p= Post(body='My first post!! (wahoo)', author=u)\n",
    "db.session.add(p)\n",
    "db.session.commit()\n"
   ],
   "metadata": {
    "collapsed": false
   }
  },
  {
   "cell_type": "markdown",
   "source": [
    "# The following code clears the database\n",
    "### run with care!"
   ],
   "metadata": {
    "collapsed": false
   }
  },
  {
   "cell_type": "code",
   "execution_count": null,
   "outputs": [],
   "source": [
    "print (\"Clearing the database\")\n",
    "users = User.query.all()\n",
    "print('Deleting users:')\n",
    "for u in users:\n",
    "    print('    deleting', u.username)\n",
    "    db.session.delete(u)\n",
    "\n",
    "posts = Post.query.all()\n",
    "print('Deleting Posts')\n",
    "for p in posts:\n",
    "    print('    deleting', p.body)\n",
    "    db.session.delete(p)\n",
    "\n",
    "db.session.commit()\n"
   ],
   "metadata": {
    "collapsed": false
   }
  },
  {
   "cell_type": "markdown",
   "source": [
    "### This code rolls back the database in case of an error\n",
    "#### Use this when errors happen"
   ],
   "metadata": {
    "collapsed": false
   }
  },
  {
   "cell_type": "code",
   "execution_count": null,
   "outputs": [],
   "source": [
    "db.session.rollback()\n",
    "db.session.commit()"
   ],
   "metadata": {
    "collapsed": false
   }
  },
  {
   "cell_type": "markdown",
   "source": [
    "## Security and password hashing"
   ],
   "metadata": {
    "collapsed": false
   }
  },
  {
   "cell_type": "code",
   "execution_count": null,
   "outputs": [],
   "source": [
    "from werkzeug.security import generate_password_hash\n",
    "\n",
    "hash = generate_password_hash('foobar')\n",
    "hash"
   ],
   "metadata": {
    "collapsed": false
   }
  },
  {
   "cell_type": "code",
   "execution_count": null,
   "outputs": [],
   "source": [
    "from werkzeug.security import check_password_hash\n",
    "\n",
    "check_password_hash(hash, 'foobar')"
   ],
   "metadata": {
    "collapsed": false
   }
  },
  {
   "cell_type": "code",
   "execution_count": null,
   "outputs": [],
   "source": [
    "check_password_hash(hash, 'barfoo')"
   ],
   "metadata": {
    "collapsed": false
   }
  },
  {
   "cell_type": "markdown",
   "source": [
    "# Email test script\n",
    "#### This code tests sending email"
   ],
   "metadata": {
    "collapsed": false
   }
  },
  {
   "cell_type": "code",
   "execution_count": 1,
   "outputs": [
    {
     "name": "stderr",
     "output_type": "stream",
     "text": [
      "[2023-02-09 17:45:03,617] INFO in __init__: Microblog startup\n"
     ]
    },
    {
     "name": "stdout",
     "output_type": "stream",
     "text": [
      "webapp ... initializing\n",
      "Webapp is not in debug mode\n",
      "MAIL_SERVER localhost\n",
      "configuring the email server ...\n",
      "Models ... initializing \n",
      "configuring the mail server\n",
      "message constructed\n"
     ]
    },
    {
     "ename": "RuntimeError",
     "evalue": "Working outside of application context.\n\nThis typically means that you attempted to use functionality that needed\nthe current application. To solve this, set up an application context\nwith app.app_context(). See the documentation for more information.",
     "output_type": "error",
     "traceback": [
      "\u001B[1;31m---------------------------------------------------------------------------\u001B[0m",
      "\u001B[1;31mRuntimeError\u001B[0m                              Traceback (most recent call last)",
      "Cell \u001B[1;32mIn[1], line 11\u001B[0m\n\u001B[0;32m      9\u001B[0m msg\u001B[38;5;241m.\u001B[39mhtml \u001B[38;5;241m=\u001B[39m \u001B[38;5;124m'\u001B[39m\u001B[38;5;124m<h1>HTML body</h1>\u001B[39m\u001B[38;5;124m'\u001B[39m\n\u001B[0;32m     10\u001B[0m \u001B[38;5;28mprint\u001B[39m(\u001B[38;5;124m\"\u001B[39m\u001B[38;5;124mmessage constructed\u001B[39m\u001B[38;5;124m\"\u001B[39m)\n\u001B[1;32m---> 11\u001B[0m \u001B[43mmail\u001B[49m\u001B[38;5;241;43m.\u001B[39;49m\u001B[43msend\u001B[49m\u001B[43m(\u001B[49m\u001B[43mmsg\u001B[49m\u001B[43m)\u001B[49m\n",
      "File \u001B[1;32mD:\\Coding\\mircoblog\\venv\\Lib\\site-packages\\flask_mail.py:492\u001B[0m, in \u001B[0;36m_MailMixin.send\u001B[1;34m(self, message)\u001B[0m\n\u001B[0;32m    485\u001B[0m \u001B[38;5;250m\u001B[39m\u001B[38;5;124;03m\"\"\"Sends a single message instance. If TESTING is True the message will\u001B[39;00m\n\u001B[0;32m    486\u001B[0m \u001B[38;5;124;03mnot actually be sent.\u001B[39;00m\n\u001B[0;32m    487\u001B[0m \n\u001B[0;32m    488\u001B[0m \u001B[38;5;124;03m:param message: a Message instance.\u001B[39;00m\n\u001B[0;32m    489\u001B[0m \u001B[38;5;124;03m\"\"\"\u001B[39;00m\n\u001B[0;32m    491\u001B[0m \u001B[38;5;28;01mwith\u001B[39;00m \u001B[38;5;28mself\u001B[39m\u001B[38;5;241m.\u001B[39mconnect() \u001B[38;5;28;01mas\u001B[39;00m connection:\n\u001B[1;32m--> 492\u001B[0m     \u001B[43mmessage\u001B[49m\u001B[38;5;241;43m.\u001B[39;49m\u001B[43msend\u001B[49m\u001B[43m(\u001B[49m\u001B[43mconnection\u001B[49m\u001B[43m)\u001B[49m\n",
      "File \u001B[1;32mD:\\Coding\\mircoblog\\venv\\Lib\\site-packages\\flask_mail.py:427\u001B[0m, in \u001B[0;36mMessage.send\u001B[1;34m(self, connection)\u001B[0m\n\u001B[0;32m    424\u001B[0m \u001B[38;5;28;01mdef\u001B[39;00m \u001B[38;5;21msend\u001B[39m(\u001B[38;5;28mself\u001B[39m, connection):\n\u001B[0;32m    425\u001B[0m \u001B[38;5;250m    \u001B[39m\u001B[38;5;124;03m\"\"\"Verifies and sends the message.\"\"\"\u001B[39;00m\n\u001B[1;32m--> 427\u001B[0m     \u001B[43mconnection\u001B[49m\u001B[38;5;241;43m.\u001B[39;49m\u001B[43msend\u001B[49m\u001B[43m(\u001B[49m\u001B[38;5;28;43mself\u001B[39;49m\u001B[43m)\u001B[49m\n",
      "File \u001B[1;32mD:\\Coding\\mircoblog\\venv\\Lib\\site-packages\\flask_mail.py:190\u001B[0m, in \u001B[0;36mConnection.send\u001B[1;34m(self, message, envelope_from)\u001B[0m\n\u001B[0;32m    185\u001B[0m     message\u001B[38;5;241m.\u001B[39mdate \u001B[38;5;241m=\u001B[39m time\u001B[38;5;241m.\u001B[39mtime()\n\u001B[0;32m    187\u001B[0m \u001B[38;5;28;01mif\u001B[39;00m \u001B[38;5;28mself\u001B[39m\u001B[38;5;241m.\u001B[39mhost:\n\u001B[0;32m    188\u001B[0m     \u001B[38;5;28mself\u001B[39m\u001B[38;5;241m.\u001B[39mhost\u001B[38;5;241m.\u001B[39msendmail(sanitize_address(envelope_from \u001B[38;5;129;01mor\u001B[39;00m message\u001B[38;5;241m.\u001B[39msender),\n\u001B[0;32m    189\u001B[0m                        \u001B[38;5;28mlist\u001B[39m(sanitize_addresses(message\u001B[38;5;241m.\u001B[39msend_to)),\n\u001B[1;32m--> 190\u001B[0m                        \u001B[43mmessage\u001B[49m\u001B[38;5;241;43m.\u001B[39;49m\u001B[43mas_bytes\u001B[49m\u001B[43m(\u001B[49m\u001B[43m)\u001B[49m \u001B[38;5;28;01mif\u001B[39;00m PY3 \u001B[38;5;28;01melse\u001B[39;00m message\u001B[38;5;241m.\u001B[39mas_string(),\n\u001B[0;32m    191\u001B[0m                        message\u001B[38;5;241m.\u001B[39mmail_options,\n\u001B[0;32m    192\u001B[0m                        message\u001B[38;5;241m.\u001B[39mrcpt_options)\n\u001B[0;32m    194\u001B[0m email_dispatched\u001B[38;5;241m.\u001B[39msend(message, app\u001B[38;5;241m=\u001B[39mcurrent_app\u001B[38;5;241m.\u001B[39m_get_current_object())\n\u001B[0;32m    196\u001B[0m \u001B[38;5;28mself\u001B[39m\u001B[38;5;241m.\u001B[39mnum_emails \u001B[38;5;241m+\u001B[39m\u001B[38;5;241m=\u001B[39m \u001B[38;5;241m1\u001B[39m\n",
      "File \u001B[1;32mD:\\Coding\\mircoblog\\venv\\Lib\\site-packages\\flask_mail.py:385\u001B[0m, in \u001B[0;36mMessage.as_bytes\u001B[1;34m(self)\u001B[0m\n\u001B[0;32m    383\u001B[0m \u001B[38;5;28;01mdef\u001B[39;00m \u001B[38;5;21mas_bytes\u001B[39m(\u001B[38;5;28mself\u001B[39m):\n\u001B[0;32m    384\u001B[0m     \u001B[38;5;28;01mif\u001B[39;00m PY34:\n\u001B[1;32m--> 385\u001B[0m         \u001B[38;5;28;01mreturn\u001B[39;00m \u001B[38;5;28;43mself\u001B[39;49m\u001B[38;5;241;43m.\u001B[39;49m\u001B[43m_message\u001B[49m\u001B[43m(\u001B[49m\u001B[43m)\u001B[49m\u001B[38;5;241m.\u001B[39mas_bytes()\n\u001B[0;32m    386\u001B[0m     \u001B[38;5;28;01melse\u001B[39;00m: \u001B[38;5;66;03m# fallback for old Python (3) versions\u001B[39;00m\n\u001B[0;32m    387\u001B[0m         \u001B[38;5;28;01mreturn\u001B[39;00m \u001B[38;5;28mself\u001B[39m\u001B[38;5;241m.\u001B[39m_message()\u001B[38;5;241m.\u001B[39mas_string()\u001B[38;5;241m.\u001B[39mencode(\u001B[38;5;28mself\u001B[39m\u001B[38;5;241m.\u001B[39mcharset \u001B[38;5;129;01mor\u001B[39;00m \u001B[38;5;124m'\u001B[39m\u001B[38;5;124mutf-8\u001B[39m\u001B[38;5;124m'\u001B[39m)\n",
      "File \u001B[1;32mD:\\Coding\\mircoblog\\venv\\Lib\\site-packages\\flask_mail.py:307\u001B[0m, in \u001B[0;36mMessage._message\u001B[1;34m(self)\u001B[0m\n\u001B[0;32m    305\u001B[0m \u001B[38;5;28;01mdef\u001B[39;00m \u001B[38;5;21m_message\u001B[39m(\u001B[38;5;28mself\u001B[39m):\n\u001B[0;32m    306\u001B[0m \u001B[38;5;250m    \u001B[39m\u001B[38;5;124;03m\"\"\"Creates the email\"\"\"\u001B[39;00m\n\u001B[1;32m--> 307\u001B[0m     ascii_attachments \u001B[38;5;241m=\u001B[39m \u001B[43mcurrent_app\u001B[49m\u001B[38;5;241;43m.\u001B[39;49m\u001B[43mextensions\u001B[49m[\u001B[38;5;124m'\u001B[39m\u001B[38;5;124mmail\u001B[39m\u001B[38;5;124m'\u001B[39m]\u001B[38;5;241m.\u001B[39mascii_attachments\n\u001B[0;32m    308\u001B[0m     encoding \u001B[38;5;241m=\u001B[39m \u001B[38;5;28mself\u001B[39m\u001B[38;5;241m.\u001B[39mcharset \u001B[38;5;129;01mor\u001B[39;00m \u001B[38;5;124m'\u001B[39m\u001B[38;5;124mutf-8\u001B[39m\u001B[38;5;124m'\u001B[39m\n\u001B[0;32m    310\u001B[0m     attachments \u001B[38;5;241m=\u001B[39m \u001B[38;5;28mself\u001B[39m\u001B[38;5;241m.\u001B[39mattachments \u001B[38;5;129;01mor\u001B[39;00m []\n",
      "File \u001B[1;32mD:\\Coding\\mircoblog\\venv\\Lib\\site-packages\\werkzeug\\local.py:316\u001B[0m, in \u001B[0;36m_ProxyLookup.__get__\u001B[1;34m(self, instance, owner)\u001B[0m\n\u001B[0;32m    313\u001B[0m     \u001B[38;5;28;01mreturn\u001B[39;00m \u001B[38;5;28mself\u001B[39m\n\u001B[0;32m    315\u001B[0m \u001B[38;5;28;01mtry\u001B[39;00m:\n\u001B[1;32m--> 316\u001B[0m     obj \u001B[38;5;241m=\u001B[39m \u001B[43minstance\u001B[49m\u001B[38;5;241;43m.\u001B[39;49m\u001B[43m_get_current_object\u001B[49m\u001B[43m(\u001B[49m\u001B[43m)\u001B[49m  \u001B[38;5;66;03m# type: ignore[misc]\u001B[39;00m\n\u001B[0;32m    317\u001B[0m \u001B[38;5;28;01mexcept\u001B[39;00m \u001B[38;5;167;01mRuntimeError\u001B[39;00m:\n\u001B[0;32m    318\u001B[0m     \u001B[38;5;28;01mif\u001B[39;00m \u001B[38;5;28mself\u001B[39m\u001B[38;5;241m.\u001B[39mfallback \u001B[38;5;129;01mis\u001B[39;00m \u001B[38;5;28;01mNone\u001B[39;00m:\n",
      "File \u001B[1;32mD:\\Coding\\mircoblog\\venv\\Lib\\site-packages\\werkzeug\\local.py:513\u001B[0m, in \u001B[0;36mLocalProxy.__init__.<locals>._get_current_object\u001B[1;34m()\u001B[0m\n\u001B[0;32m    511\u001B[0m     obj \u001B[38;5;241m=\u001B[39m local\u001B[38;5;241m.\u001B[39mget()  \u001B[38;5;66;03m# type: ignore[union-attr]\u001B[39;00m\n\u001B[0;32m    512\u001B[0m \u001B[38;5;28;01mexcept\u001B[39;00m \u001B[38;5;167;01mLookupError\u001B[39;00m:\n\u001B[1;32m--> 513\u001B[0m     \u001B[38;5;28;01mraise\u001B[39;00m \u001B[38;5;167;01mRuntimeError\u001B[39;00m(unbound_message) \u001B[38;5;28;01mfrom\u001B[39;00m \u001B[38;5;28mNone\u001B[39m\n\u001B[0;32m    515\u001B[0m \u001B[38;5;28;01mreturn\u001B[39;00m get_name(obj)\n",
      "\u001B[1;31mRuntimeError\u001B[0m: Working outside of application context.\n\nThis typically means that you attempted to use functionality that needed\nthe current application. To solve this, set up an application context\nwith app.app_context(). See the documentation for more information."
     ]
    }
   ],
   "source": [
    "from flask_mail import Message\n",
    "from webapp import mail\n",
    "from webapp import webapp\n",
    "\n",
    "print('configuring the mail server')\n",
    "\n",
    "msg=Message('test subject', sender=webapp.config['ADMINS'][0], recipients=['monroe.jeffw@gmail.com'])\n",
    "msg.body = 'text body'\n",
    "msg.html = '<h1>HTML body</h1>'\n",
    "print(\"message constructed\")\n",
    "mail.send(msg)"
   ],
   "metadata": {
    "collapsed": false
   }
  },
  {
   "cell_type": "code",
   "execution_count": null,
   "outputs": [],
   "source": [
    "webapp.config['ADMINS'][0]\n",
    "webapp.config['MAIL_SERVER']"
   ],
   "metadata": {
    "collapsed": false
   }
  },
  {
   "cell_type": "markdown",
   "source": [
    "# JSON Web Token Practice"
   ],
   "metadata": {
    "collapsed": false
   }
  },
  {
   "cell_type": "code",
   "execution_count": null,
   "outputs": [],
   "source": [
    "import jwt\n",
    "\n",
    "token = jwt.encode({'a': 'b'}, 'my-secret', algorithm='HS256')\n",
    "token"
   ],
   "metadata": {
    "collapsed": false
   }
  },
  {
   "cell_type": "code",
   "execution_count": null,
   "outputs": [],
   "source": [
    "jwt.decode( token, 'my-secret', algorithms=['HS256'])"
   ],
   "metadata": {
    "collapsed": false
   }
  },
  {
   "cell_type": "code",
   "execution_count": null,
   "outputs": [],
   "source": [],
   "metadata": {
    "collapsed": false
   }
  }
 ],
 "metadata": {
  "kernelspec": {
   "display_name": "Python 3",
   "language": "python",
   "name": "python3"
  },
  "language_info": {
   "codemirror_mode": {
    "name": "ipython",
    "version": 2
   },
   "file_extension": ".py",
   "mimetype": "text/x-python",
   "name": "python",
   "nbconvert_exporter": "python",
   "pygments_lexer": "ipython2",
   "version": "2.7.6"
  }
 },
 "nbformat": 4,
 "nbformat_minor": 0
}
